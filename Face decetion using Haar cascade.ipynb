{
 "cells": [
  {
   "cell_type": "markdown",
   "id": "0e4bf005",
   "metadata": {},
   "source": [
    "## Importing OpenCV"
   ]
  },
  {
   "cell_type": "code",
   "execution_count": 14,
   "id": "9242944e",
   "metadata": {},
   "outputs": [],
   "source": [
    "import cv2"
   ]
  },
  {
   "cell_type": "markdown",
   "id": "4e35a755",
   "metadata": {},
   "source": [
    "## Importing image"
   ]
  },
  {
   "cell_type": "code",
   "execution_count": 15,
   "id": "1d3a6cf1",
   "metadata": {},
   "outputs": [],
   "source": [
    "img = cv2.imread('gold.png')"
   ]
  },
  {
   "cell_type": "markdown",
   "id": "252edc8e",
   "metadata": {},
   "source": [
    "## Loading the pre-trained model\n"
   ]
  },
  {
   "cell_type": "markdown",
   "id": "5807e6b4",
   "metadata": {},
   "source": [
    "🔑 Using `cv2.CascadeClassifier` to load pre-trained model"
   ]
  },
  {
   "cell_type": "code",
   "execution_count": 16,
   "id": "053ce72e",
   "metadata": {},
   "outputs": [],
   "source": [
    "model = cv2.CascadeClassifier('haarcascade_frontalface_default.xml')"
   ]
  },
  {
   "cell_type": "markdown",
   "id": "7a07e58f",
   "metadata": {},
   "source": [
    "## Extracting all faces in image using model"
   ]
  },
  {
   "cell_type": "code",
   "execution_count": 17,
   "id": "b1f4545e",
   "metadata": {},
   "outputs": [],
   "source": [
    "all_face_locations = model.detectMultiScale(image= img)"
   ]
  },
  {
   "cell_type": "code",
   "execution_count": 18,
   "id": "cfee2b76",
   "metadata": {},
   "outputs": [
    {
     "name": "stdout",
     "output_type": "stream",
     "text": [
      "There are 1 number of faces in this picture.\n"
     ]
    }
   ],
   "source": [
    "print(f\"There are {len(all_face_locations)} number of faces in this picture.\")"
   ]
  },
  {
   "cell_type": "markdown",
   "id": "122a4055",
   "metadata": {},
   "source": [
    "## Coding the main loop"
   ]
  },
  {
   "cell_type": "markdown",
   "id": "5437926e",
   "metadata": {},
   "source": [
    "1️⃣ Looping through all images detected in the all_face_locations variable\n",
    "\n",
    "2️⃣ Extracting the information of the detected image\n",
    "\n",
    "3️⃣ Calculating face co-ordinates\n",
    "\n",
    "4️⃣ Croping face form the main image\n",
    "\n",
    "5️⃣ Showing the face\n",
    "\n",
    "6️⃣ Drawing a rectangle around the face in the original image\n",
    "\n",
    "7️⃣ Showing the original image"
   ]
  },
  {
   "cell_type": "code",
   "execution_count": 19,
   "id": "851d02bc",
   "metadata": {},
   "outputs": [],
   "source": [
    "for index, current_face in enumerate(all_face_locations):\n",
    "    x, y, width, hight = current_face\n",
    "\n",
    "    left_x, left_y = x, y\n",
    "\n",
    "    right_x, right_y = x + width, y + hight\n",
    "\n",
    "    current_face_img = img[left_y: right_y,\n",
    "                           left_x: right_x]\n",
    "    cv2.imshow('Face no'+str(index+1), current_face_img)\n",
    "\n",
    "    cv2.rectangle(img, (left_x, left_y), (right_x, right_y),\n",
    "                  (0,255,0), 2)\n",
    "\n",
    "cv2.imshow('faces in image', img)\n",
    "cv2.waitKey(0)\n",
    "cv2.destroyAllWindows()"
   ]
  }
 ],
 "metadata": {
  "kernelspec": {
   "display_name": "Python 3",
   "language": "python",
   "name": "python3"
  },
  "language_info": {
   "codemirror_mode": {
    "name": "ipython",
    "version": 3
   },
   "file_extension": ".py",
   "mimetype": "text/x-python",
   "name": "python",
   "nbconvert_exporter": "python",
   "pygments_lexer": "ipython3",
   "version": "3.8.8"
  }
 },
 "nbformat": 4,
 "nbformat_minor": 5
}
